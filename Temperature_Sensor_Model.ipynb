{
  "nbformat": 4,
  "nbformat_minor": 0,
  "metadata": {
    "colab": {
      "name": "Temperature-Sensor Model.ipynb",
      "provenance": [],
      "collapsed_sections": [],
      "include_colab_link": true
    },
    "kernelspec": {
      "name": "python3",
      "display_name": "Python 3"
    }
  },
  "cells": [
    {
      "cell_type": "markdown",
      "metadata": {
        "id": "view-in-github",
        "colab_type": "text"
      },
      "source": [
        "<a href=\"https://colab.research.google.com/github/odie2630463/pyro_tutorial/blob/master/Temperature_Sensor_Model.ipynb\" target=\"_parent\"><img src=\"https://colab.research.google.com/assets/colab-badge.svg\" alt=\"Open In Colab\"/></a>"
      ]
    },
    {
      "cell_type": "code",
      "metadata": {
        "id": "OlQbgpOGzRou",
        "colab_type": "code",
        "outputId": "a3e9930c-5098-4878-9ed0-26c0f7290cdd",
        "colab": {
          "base_uri": "https://localhost:8080/",
          "height": 406
        }
      },
      "source": [
        "!pip install pyro-ppl seaborn"
      ],
      "execution_count": 0,
      "outputs": [
        {
          "output_type": "stream",
          "text": [
            "Requirement already satisfied: pyro-ppl in /usr/local/lib/python3.6/dist-packages (0.4.0)\n",
            "Requirement already satisfied: seaborn in /usr/local/lib/python3.6/dist-packages (0.9.0)\n",
            "Requirement already satisfied: torch>=1.2.0 in /usr/local/lib/python3.6/dist-packages (from pyro-ppl) (1.2.0)\n",
            "Requirement already satisfied: tqdm>=4.31 in /usr/local/lib/python3.6/dist-packages (from pyro-ppl) (4.33.0)\n",
            "Requirement already satisfied: opt-einsum>=2.3.2 in /usr/local/lib/python3.6/dist-packages (from pyro-ppl) (2.3.2)\n",
            "Requirement already satisfied: graphviz>=0.8 in /usr/local/lib/python3.6/dist-packages (from pyro-ppl) (0.10.1)\n",
            "Requirement already satisfied: numpy>=1.7 in /usr/local/lib/python3.6/dist-packages (from pyro-ppl) (1.16.4)\n",
            "Requirement already satisfied: pandas>=0.15.2 in /usr/local/lib/python3.6/dist-packages (from seaborn) (0.24.2)\n",
            "Requirement already satisfied: scipy>=0.14.0 in /usr/local/lib/python3.6/dist-packages (from seaborn) (1.3.0)\n",
            "Requirement already satisfied: matplotlib>=1.4.3 in /usr/local/lib/python3.6/dist-packages (from seaborn) (3.0.3)\n",
            "Requirement already satisfied: pytz>=2011k in /usr/local/lib/python3.6/dist-packages (from pandas>=0.15.2->seaborn) (2018.9)\n",
            "Requirement already satisfied: python-dateutil>=2.5.0 in /usr/local/lib/python3.6/dist-packages (from pandas>=0.15.2->seaborn) (2.5.3)\n",
            "Requirement already satisfied: cycler>=0.10 in /usr/local/lib/python3.6/dist-packages (from matplotlib>=1.4.3->seaborn) (0.10.0)\n",
            "Requirement already satisfied: kiwisolver>=1.0.1 in /usr/local/lib/python3.6/dist-packages (from matplotlib>=1.4.3->seaborn) (1.1.0)\n",
            "Requirement already satisfied: pyparsing!=2.0.4,!=2.1.2,!=2.1.6,>=2.0.1 in /usr/local/lib/python3.6/dist-packages (from matplotlib>=1.4.3->seaborn) (2.4.2)\n",
            "Requirement already satisfied: six>=1.5 in /usr/local/lib/python3.6/dist-packages (from python-dateutil>=2.5.0->pandas>=0.15.2->seaborn) (1.12.0)\n",
            "Requirement already satisfied: setuptools in /usr/local/lib/python3.6/dist-packages (from kiwisolver>=1.0.1->matplotlib>=1.4.3->seaborn) (41.0.1)\n"
          ],
          "name": "stdout"
        }
      ]
    },
    {
      "cell_type": "code",
      "metadata": {
        "id": "5RyMBcQR_d6k",
        "colab_type": "code",
        "colab": {}
      },
      "source": [
        "import numpy as np\n",
        "import torch\n",
        "from torch.distributions import constraints\n",
        "import pyro\n",
        "import pyro.distributions as dist\n",
        "from pyro.poutine import trace,replay\n",
        "from pyro.optim import Adam\n",
        "from pyro.infer import SVI ,Trace_ELBO\n",
        "import seaborn as sns"
      ],
      "execution_count": 0,
      "outputs": []
    },
    {
      "cell_type": "markdown",
      "metadata": {
        "id": "iRC6vNHy8ZX8",
        "colab_type": "text"
      },
      "source": [
        "## Define model and sampling"
      ]
    },
    {
      "cell_type": "code",
      "metadata": {
        "id": "IPJv5oo3z3Rx",
        "colab_type": "code",
        "colab": {}
      },
      "source": [
        "def model(guess):\n",
        "    temp = pyro.sample('temp', dist.Normal(guess, 10.0))\n",
        "    sensor = pyro.sample('sensor', dist.Normal(temp, 1.0))\n",
        "    return sensor"
      ],
      "execution_count": 0,
      "outputs": []
    },
    {
      "cell_type": "code",
      "metadata": {
        "id": "jQiYsJUx0zCP",
        "colab_type": "code",
        "outputId": "a2f18c4f-3105-4f8d-d34d-72082de0cec4",
        "colab": {
          "base_uri": "https://localhost:8080/",
          "height": 307
        }
      },
      "source": [
        "generate_data = [model(15).numpy() for i in range(100)]\n",
        "sns.distplot(generate_data)"
      ],
      "execution_count": 0,
      "outputs": [
        {
          "output_type": "execute_result",
          "data": {
            "text/plain": [
              "<matplotlib.axes._subplots.AxesSubplot at 0x7f14dc521748>"
            ]
          },
          "metadata": {
            "tags": []
          },
          "execution_count": 15
        },
        {
          "output_type": "display_data",
          "data": {
            "image/png": "[encoded data removed]",
            "text/plain": [
              "<Figure size 432x288 with 1 Axes>"
            ]
          },
          "metadata": {
            "tags": []
          }
        }
      ]
    },
    {
      "cell_type": "markdown",
      "metadata": {
        "id": "YzA-gpo28gte",
        "colab_type": "text"
      },
      "source": [
        "## Trace"
      ]
    },
    {
      "cell_type": "code",
      "metadata": {
        "id": "j55zL0E28ccT",
        "colab_type": "code",
        "outputId": "6fc66577-e7ab-4edd-dc5a-6fbebf9aef1c",
        "colab": {
          "base_uri": "https://localhost:8080/",
          "height": 675
        }
      },
      "source": [
        "sample_trace = trace(model).get_trace(15)\n",
        "sample_trace.nodes"
      ],
      "execution_count": 0,
      "outputs": [
        {
          "output_type": "execute_result",
          "data": {
            "text/plain": [
              "OrderedDict([('_INPUT',\n",
              "              {'args': (15,), 'kwargs': {}, 'name': '_INPUT', 'type': 'args'}),\n",
              "             ('temp',\n",
              "              {'args': (),\n",
              "               'cond_indep_stack': (),\n",
              "               'continuation': None,\n",
              "               'done': True,\n",
              "               'fn': Normal(loc: 15.0, scale: 10.0),\n",
              "               'infer': {},\n",
              "               'is_observed': False,\n",
              "               'kwargs': {},\n",
              "               'mask': None,\n",
              "               'name': 'temp',\n",
              "               'scale': 1.0,\n",
              "               'stop': False,\n",
              "               'type': 'sample',\n",
              "               'value': tensor(30.6752)}),\n",
              "             ('sensor',\n",
              "              {'args': (),\n",
              "               'cond_indep_stack': (),\n",
              "               'continuation': None,\n",
              "               'done': True,\n",
              "               'fn': Normal(loc: 30.675167083740234, scale: 1.0),\n",
              "               'infer': {},\n",
              "               'is_observed': False,\n",
              "               'kwargs': {},\n",
              "               'mask': None,\n",
              "               'name': 'sensor',\n",
              "               'scale': 1.0,\n",
              "               'stop': False,\n",
              "               'type': 'sample',\n",
              "               'value': tensor(31.2358)}),\n",
              "             ('_RETURN',\n",
              "              {'name': '_RETURN',\n",
              "               'type': 'return',\n",
              "               'value': tensor(31.2358)})])"
            ]
          },
          "metadata": {
            "tags": []
          },
          "execution_count": 62
        }
      ]
    },
    {
      "cell_type": "code",
      "metadata": {
        "id": "8u-e-ioe9IDJ",
        "colab_type": "code",
        "outputId": "c9a83f51-675c-4c27-9b66-1b00acb10038",
        "colab": {
          "base_uri": "https://localhost:8080/",
          "height": 75
        }
      },
      "source": [
        "sample_trace.log_prob_sum().exp()"
      ],
      "execution_count": 0,
      "outputs": [
        {
          "output_type": "execute_result",
          "data": {
            "text/plain": [
              "tensor(0.0040)"
            ]
          },
          "metadata": {
            "tags": []
          },
          "execution_count": 63
        }
      ]
    },
    {
      "cell_type": "markdown",
      "metadata": {
        "id": "0bjo2DfY8_tN",
        "colab_type": "text"
      },
      "source": [
        "## Condition on data"
      ]
    },
    {
      "cell_type": "code",
      "metadata": {
        "id": "a7DMuwqv1x5N",
        "colab_type": "code",
        "outputId": "f476b38a-9608-4514-a8ab-6321f66bd4f5",
        "colab": {
          "base_uri": "https://localhost:8080/",
          "height": 75
        }
      },
      "source": [
        "conditioned_model = pyro.condition(model , {'temp':30.6752 , 'sensor':31.2358})\n",
        "trace(conditioned_model).get_trace(15).log_prob_sum().exp()"
      ],
      "execution_count": 0,
      "outputs": [
        {
          "output_type": "execute_result",
          "data": {
            "text/plain": [
              "tensor(0.0040)"
            ]
          },
          "metadata": {
            "tags": []
          },
          "execution_count": 65
        }
      ]
    },
    {
      "cell_type": "markdown",
      "metadata": {
        "id": "E-TmKc1xh_tF",
        "colab_type": "text"
      },
      "source": [
        "## Approxiamte ELBO"
      ]
    },
    {
      "cell_type": "code",
      "metadata": {
        "id": "2dnZFb0Yh-Qa",
        "colab_type": "code",
        "colab": {}
      },
      "source": [
        "def mc_elbo(model , guide , data):\n",
        "  guide_trace = trace(guide).get_trace(data)\n",
        "  model_trace = trace(replay(model , guide_trace)).get_trace(data)\n",
        "  return -1 * (model_trace.log_prob_sum() - guide_trace.log_prob_sum())"
      ],
      "execution_count": 0,
      "outputs": []
    },
    {
      "cell_type": "markdown",
      "metadata": {
        "id": "wi8PpZ4GAz6c",
        "colab_type": "text"
      },
      "source": [
        "## Training"
      ]
    },
    {
      "cell_type": "code",
      "metadata": {
        "id": "XJp8TMFv7Mze",
        "colab_type": "code",
        "colab": {}
      },
      "source": [
        "data = torch.from_numpy(np.array(generate_data))"
      ],
      "execution_count": 0,
      "outputs": []
    },
    {
      "cell_type": "code",
      "metadata": {
        "id": "dHR8lOP5IoTY",
        "colab_type": "code",
        "colab": {}
      },
      "source": [
        "def model(obs):\n",
        "    temp = pyro.sample('temp', dist.Normal(0., 1.))\n",
        "    \n",
        "    with pyro.plate('local' ,len(obs)):\n",
        "      sensor = pyro.sample('sensor', dist.Normal(temp, 1.0) , obs=obs)\n",
        "    return sensor"
      ],
      "execution_count": 0,
      "outputs": []
    },
    {
      "cell_type": "code",
      "metadata": {
        "id": "c1JT0qBvJLjN",
        "colab_type": "code",
        "colab": {}
      },
      "source": [
        "def guide(obs):\n",
        "  loc = pyro.param('loc' , torch.tensor(0.))\n",
        "  scale = pyro.param('scale' , torch.tensor(1.) , constraint=constraints.positive)\n",
        "  temp = pyro.sample('temp', dist.Normal(loc, scale))"
      ],
      "execution_count": 0,
      "outputs": []
    },
    {
      "cell_type": "code",
      "metadata": {
        "id": "Uo40lCk3KRuT",
        "colab_type": "code",
        "colab": {}
      },
      "source": [
        "pyro.clear_param_store()\n",
        "elbo = Trace_ELBO()\n",
        "optim = Adam({'lr': 1e-1})\n",
        "svi = SVI(model, guide, optim, loss=elbo)"
      ],
      "execution_count": 0,
      "outputs": []
    },
    {
      "cell_type": "code",
      "metadata": {
        "id": "EKzNOinXmeCp",
        "colab_type": "code",
        "colab": {}
      },
      "source": [
        "pyro.clear_param_store()\n",
        "optim = Adam({'lr': 1e-1})\n",
        "svi = SVI(model, guide, optim, loss=mc_elbo)"
      ],
      "execution_count": 0,
      "outputs": []
    },
    {
      "cell_type": "code",
      "metadata": {
        "id": "EyV62rcwKYiM",
        "colab_type": "code",
        "outputId": "694bb16e-c7b2-4305-acff-34b8cb2fbc6a",
        "colab": {
          "base_uri": "https://localhost:8080/",
          "height": 95
        }
      },
      "source": [
        "for _ in range(1000):\n",
        "  loss = svi.step(data)\n",
        "\n",
        "print(loss)"
      ],
      "execution_count": 0,
      "outputs": [
        {
          "output_type": "stream",
          "text": [
            "4706.078117609024\n"
          ],
          "name": "stdout"
        }
      ]
    },
    {
      "cell_type": "code",
      "metadata": {
        "id": "5T29LVCCMA6F",
        "colab_type": "code",
        "outputId": "8fceccb5-9241-4ee6-f412-8b52783a5541",
        "colab": {
          "base_uri": "https://localhost:8080/",
          "height": 115
        }
      },
      "source": [
        "pyro.get_param_store()['loc']"
      ],
      "execution_count": 0,
      "outputs": [
        {
          "output_type": "execute_result",
          "data": {
            "text/plain": [
              "tensor(13.8661, requires_grad=True)"
            ]
          },
          "metadata": {
            "tags": []
          },
          "execution_count": 43
        }
      ]
    },
    {
      "cell_type": "code",
      "metadata": {
        "id": "RYzzt9_vLNdK",
        "colab_type": "code",
        "outputId": "0b3dcb41-7fbb-4eb9-b0da-04499d947cf4",
        "colab": {
          "base_uri": "https://localhost:8080/",
          "height": 75
        }
      },
      "source": [
        "pyro.get_param_store()['scale']"
      ],
      "execution_count": 0,
      "outputs": [
        {
          "output_type": "execute_result",
          "data": {
            "text/plain": [
              "tensor(0.1686, grad_fn=<AddBackward0>)"
            ]
          },
          "metadata": {
            "tags": []
          },
          "execution_count": 40
        }
      ]
    }
  ]
}