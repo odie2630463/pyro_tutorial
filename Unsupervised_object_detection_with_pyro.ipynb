{
  "nbformat": 4,
  "nbformat_minor": 0,
  "metadata": {
    "colab": {
      "name": "Unsupervised object detection with pyro.ipynb",
      "provenance": [],
      "collapsed_sections": [],
      "include_colab_link": true
    },
    "kernelspec": {
      "name": "python3",
      "display_name": "Python 3"
    }
  },
  "cells": [
    {
      "cell_type": "markdown",
      "metadata": {
        "id": "view-in-github",
        "colab_type": "text"
      },
      "source": [
        "<a href=\"https://colab.research.google.com/github/odie2630463/pyro_tutorial/blob/master/Unsupervised_object_detection_with_pyro.ipynb\" target=\"_parent\"><img src=\"https://colab.research.google.com/assets/colab-badge.svg\" alt=\"Open In Colab\"/></a>"
      ]
    },
    {
      "cell_type": "markdown",
      "metadata": {
        "id": "LBKC-l6jCfpE",
        "colab_type": "text"
      },
      "source": [
        "# Unsupervised object detection with pyro\n",
        "\n",
        "simplify the model and borrow idea from list paper\n",
        "\n",
        "- [Spatially Invariant Unsupervised Object Detection with Convolutional Neural\n",
        "Networks\n",
        "](http://e2crawfo.github.io/pdfs/spair_aaai_2019.pdf)\n",
        "-[Attend, Infer, Repeat: Fast Scene Understanding with Generative Models](https://arxiv.org/abs/1603.08575)"
      ]
    },
    {
      "cell_type": "code",
      "metadata": {
        "id": "0C1KGJrGhH3G",
        "colab_type": "code",
        "cellView": "both",
        "outputId": "c3cc0ada-f753-4309-8b50-d3705ccfe53b",
        "colab": {
          "base_uri": "https://localhost:8080/",
          "height": 401
        }
      },
      "source": [
        "!pip install pyro-ppl"
      ],
      "execution_count": 0,
      "outputs": [
        {
          "output_type": "stream",
          "text": [
            "Collecting pyro-ppl\n",
            "\u001b[?25l  Downloading https://files.pythonhosted.org/packages/75/c8/3a52883ab27c5503385a983e4451a1e2944c2baab66c0f7ffc1f84bca329/pyro_ppl-1.1.0-py3-none-any.whl (429kB)\n",
            "\u001b[K     |████████████████████████████████| 430kB 2.8MB/s \n",
            "\u001b[?25hCollecting tqdm>=4.36\n",
            "\u001b[?25l  Downloading https://files.pythonhosted.org/packages/72/c9/7fc20feac72e79032a7c8138fd0d395dc6d8812b5b9edf53c3afd0b31017/tqdm-4.41.1-py2.py3-none-any.whl (56kB)\n",
            "\u001b[K     |████████████████████████████████| 61kB 7.8MB/s \n",
            "\u001b[?25hRequirement already satisfied: numpy>=1.7 in /usr/local/lib/python3.6/dist-packages (from pyro-ppl) (1.17.4)\n",
            "Requirement already satisfied: torch>=1.3.0 in /usr/local/lib/python3.6/dist-packages (from pyro-ppl) (1.3.1)\n",
            "Requirement already satisfied: opt-einsum>=2.3.2 in /usr/local/lib/python3.6/dist-packages (from pyro-ppl) (3.1.0)\n",
            "Collecting pyro-api>=0.1.1\n",
            "  Downloading https://files.pythonhosted.org/packages/c2/bc/6cdbd1929e32fff62a33592633c2cc0393c7f7739131ccc9c9c4e28ac8dd/pyro_api-0.1.1-py3-none-any.whl\n",
            "Installing collected packages: tqdm, pyro-api, pyro-ppl\n",
            "  Found existing installation: tqdm 4.28.1\n",
            "    Uninstalling tqdm-4.28.1:\n",
            "      Successfully uninstalled tqdm-4.28.1\n",
            "Successfully installed pyro-api-0.1.1 pyro-ppl-1.1.0 tqdm-4.41.1\n"
          ],
          "name": "stdout"
        },
        {
          "output_type": "display_data",
          "data": {
            "application/vnd.colab-display-data+json": {
              "pip_warning": {
                "packages": [
                  "tqdm"
                ]
              }
            }
          },
          "metadata": {
            "tags": []
          }
        }
      ]
    },
    {
      "cell_type": "code",
      "metadata": {
        "id": "vyXbwfnShc1b",
        "colab_type": "code",
        "colab": {}
      },
      "source": [
        "import numpy as np\n",
        "import matplotlib.pyplot as plt\n",
        "import matplotlib.patches as patches\n",
        "from google.colab import widgets\n",
        "\n",
        "import torch\n",
        "import torch.nn as nn\n",
        "from torch.distributions import constraints\n",
        "from torch.nn.functional import grid_sample, affine_grid\n",
        "from torchvision.utils import make_grid\n",
        "\n",
        "import pyro\n",
        "import pyro.distributions as dist\n",
        "from pyro.poutine import trace,replay\n",
        "from pyro.optim import Adam\n",
        "from pyro.contrib.autoguide import AutoDelta\n",
        "from pyro.infer import SVI,Trace_ELBO"
      ],
      "execution_count": 0,
      "outputs": []
    },
    {
      "cell_type": "code",
      "metadata": {
        "id": "dzrgBSwR_2hO",
        "colab_type": "code",
        "colab": {}
      },
      "source": [
        "img_size = 64\n",
        "obj_size = 8\n",
        "ratio = img_size / obj_size\n",
        "logit_scale = 10\n",
        "\n",
        "batch_size = 2\n",
        "H = 4\n",
        "W = 4\n",
        "C = 2"
      ],
      "execution_count": 0,
      "outputs": []
    },
    {
      "cell_type": "markdown",
      "metadata": {
        "id": "cMBlIiwm_2-M",
        "colab_type": "text"
      },
      "source": [
        "## Differential image render\n"
      ]
    },
    {
      "cell_type": "code",
      "metadata": {
        "id": "nuAYJN1X_e1a",
        "colab_type": "code",
        "colab": {}
      },
      "source": [
        "def obj_to_image_param(obj_param):\n",
        "  H_ = torch.arange(-ratio,ratio,(2*ratio)/H)\n",
        "  W_ = torch.arange(-ratio,ratio,(2*ratio)/W)\n",
        "  base = [torch.stack((i,j)) for i in H_ for j in W_]\n",
        "  base = torch.stack(base).view(1,H,W,1,2).repeat(1,1,1,C,1)\n",
        "  return (ratio/4)*(obj_param+1)+base"
      ],
      "execution_count": 0,
      "outputs": []
    },
    {
      "cell_type": "code",
      "metadata": {
        "id": "DzgPSM_D3ao3",
        "colab_type": "code",
        "colab": {}
      },
      "source": [
        "def render(obj_param,logit):\n",
        "  img_param = obj_to_image_param(obj_param)\n",
        "  img_param = img_param.view(-1,2)\n",
        "  logit = (logit_scale*logit.view(-1,1,1,1)).sigmoid()\n",
        "  bs = img_param.size(0)\n",
        "  obj = torch.ones((bs,1,obj_size,obj_size))*logit\n",
        "  theta = torch.zeros(bs,2,3)\n",
        "  theta[:,0,0] = ratio\n",
        "  theta[:,1,1] = ratio\n",
        "  theta[:,:,-1] = img_param\n",
        "  grid = affine_grid(theta, torch.Size((bs,1,img_size,img_size)))\n",
        "  out = grid_sample(obj, grid)\n",
        "  out = out.view(batch_size,-1,1,img_size,img_size)\n",
        "  return out , out.sum(1)"
      ],
      "execution_count": 0,
      "outputs": []
    },
    {
      "cell_type": "code",
      "metadata": {
        "colab_type": "code",
        "outputId": "0969c395-db29-4e34-b914-2ed8da4a1631",
        "id": "OipyYNLhwSIN",
        "colab": {
          "base_uri": "https://localhost:8080/",
          "height": 107
        }
      },
      "source": [
        "out , img_ = render(torch.zeros(2,4,4,2,2),torch.ones(2,4,4,2,1))"
      ],
      "execution_count": 0,
      "outputs": [
        {
          "output_type": "stream",
          "text": [
            "/usr/local/lib/python3.6/dist-packages/torch/nn/functional.py:2751: UserWarning: Default grid_sample and affine_grid behavior will be changed to align_corners=False from 1.4.0. See the documentation of grid_sample for details.\n",
            "  warnings.warn(\"Default grid_sample and affine_grid behavior will be changed \"\n",
            "/usr/local/lib/python3.6/dist-packages/torch/nn/functional.py:2693: UserWarning: Default grid_sample and affine_grid behavior will be changed to align_corners=False from 1.4.0. See the documentation of grid_sample for details.\n",
            "  warnings.warn(\"Default grid_sample and affine_grid behavior will be changed \"\n"
          ],
          "name": "stderr"
        }
      ]
    },
    {
      "cell_type": "code",
      "metadata": {
        "id": "5SiIdwogsXku",
        "colab_type": "code",
        "outputId": "2ebb1277-d2c5-4f8b-d18f-882f537454a2",
        "colab": {
          "base_uri": "https://localhost:8080/",
          "height": 285
        }
      },
      "source": [
        "plt.imshow(img_[1].view(img_size,img_size).numpy(),cmap='gray',vmin=0)"
      ],
      "execution_count": 0,
      "outputs": [
        {
          "output_type": "execute_result",
          "data": {
            "text/plain": [
              "<matplotlib.image.AxesImage at 0x7f9f7c920860>"
            ]
          },
          "metadata": {
            "tags": []
          },
          "execution_count": 8
        },
        {
          "output_type": "display_data",
          "data": {
            "image/png": "[encoded data removed]",
            "text/plain": [
              "<Figure size 432x288 with 1 Axes>"
            ]
          },
          "metadata": {
            "tags": []
          }
        }
      ]
    },
    {
      "cell_type": "markdown",
      "metadata": {
        "id": "clB7ZWg3DFNX",
        "colab_type": "text"
      },
      "source": [
        "## Define Yolo like model\n",
        "\n",
        "- assume image have $4*4*2=32$ objects\n",
        "- each object has *location param* and *logit*\n"
      ]
    },
    {
      "cell_type": "code",
      "metadata": {
        "id": "lAN0OgFC1PcM",
        "colab_type": "code",
        "colab": {}
      },
      "source": [
        "#(2,4,4,2,2)\n",
        "def model(obs):\n",
        "  B = pyro.plate('B',size=batch_size,dim=-5)\n",
        "  H = pyro.plate('H',size=4,dim=-4)\n",
        "  W = pyro.plate('W',size=4,dim=-3)\n",
        "  C = pyro.plate('C',size=2,dim=-2)\n",
        "\n",
        "  with B,H,W,C:\n",
        "    pos = pyro.sample('obj_param',dist.Normal(torch.zeros(2),torch.ones(2)))\n",
        "    logit = pyro.sample('obj_logit',dist.Normal(torch.tensor(-1.),torch.ones(1)))\n",
        "  \n",
        "  out , imgs_ = render(pos,logit)\n",
        "  imgs = pyro.sample('images',dist.Normal(imgs_ , 0.01*torch.ones_like(imgs_)).to_event(2) , obs=obs)\n",
        "  return out , imgs"
      ],
      "execution_count": 0,
      "outputs": []
    },
    {
      "cell_type": "markdown",
      "metadata": {
        "id": "jLkDbGXzEZLD",
        "colab_type": "text"
      },
      "source": [
        "### sample 2 images for training"
      ]
    },
    {
      "cell_type": "code",
      "metadata": {
        "id": "4Gd5ZP0rewHD",
        "colab_type": "code",
        "outputId": "ea4ef661-fab8-4f6d-fc62-0d7876144dde",
        "colab": {
          "base_uri": "https://localhost:8080/",
          "height": 392
        }
      },
      "source": [
        "out , imgs = model(None)\n",
        "print(imgs.shape)\n",
        "plt.imshow(imgs[0].view(img_size,img_size).numpy(),cmap='gray',vmin=0)"
      ],
      "execution_count": 0,
      "outputs": [
        {
          "output_type": "stream",
          "text": [
            "torch.Size([2, 1, 64, 64])\n"
          ],
          "name": "stdout"
        },
        {
          "output_type": "stream",
          "text": [
            "/usr/local/lib/python3.6/dist-packages/torch/nn/functional.py:2751: UserWarning: Default grid_sample and affine_grid behavior will be changed to align_corners=False from 1.4.0. See the documentation of grid_sample for details.\n",
            "  warnings.warn(\"Default grid_sample and affine_grid behavior will be changed \"\n",
            "/usr/local/lib/python3.6/dist-packages/torch/nn/functional.py:2693: UserWarning: Default grid_sample and affine_grid behavior will be changed to align_corners=False from 1.4.0. See the documentation of grid_sample for details.\n",
            "  warnings.warn(\"Default grid_sample and affine_grid behavior will be changed \"\n"
          ],
          "name": "stderr"
        },
        {
          "output_type": "execute_result",
          "data": {
            "text/plain": [
              "<matplotlib.image.AxesImage at 0x7f9f7c3fcef0>"
            ]
          },
          "metadata": {
            "tags": []
          },
          "execution_count": 10
        },
        {
          "output_type": "display_data",
          "data": {
            "image/png": "[encoded data removed]",
            "text/plain": [
              "<Figure size 432x288 with 1 Axes>"
            ]
          },
          "metadata": {
            "tags": []
          }
        }
      ]
    },
    {
      "cell_type": "code",
      "metadata": {
        "id": "SXrXWxGzEghb",
        "colab_type": "code",
        "outputId": "733357d9-6647-45fa-eb49-a748374d61e3",
        "colab": {
          "base_uri": "https://localhost:8080/",
          "height": 285
        }
      },
      "source": [
        "plt.imshow(imgs[1].view(img_size,img_size).numpy(),cmap='gray',vmin=0)"
      ],
      "execution_count": 0,
      "outputs": [
        {
          "output_type": "execute_result",
          "data": {
            "text/plain": [
              "<matplotlib.image.AxesImage at 0x7f9f7c3e4cf8>"
            ]
          },
          "metadata": {
            "tags": []
          },
          "execution_count": 11
        },
        {
          "output_type": "display_data",
          "data": {
            "image/png": "[encoded data removed]",
            "text/plain": [
              "<Figure size 432x288 with 1 Axes>"
            ]
          },
          "metadata": {
            "tags": []
          }
        }
      ]
    },
    {
      "cell_type": "markdown",
      "metadata": {
        "id": "Bx0jk36qDdhk",
        "colab_type": "text"
      },
      "source": [
        "### show each object "
      ]
    },
    {
      "cell_type": "code",
      "metadata": {
        "id": "tpjrgXeRIMDl",
        "colab_type": "code",
        "outputId": "09f8bf63-2b0c-45d8-9299-f8c81dbaf4c2",
        "colab": {
          "base_uri": "https://localhost:8080/",
          "height": 197
        }
      },
      "source": [
        "plt.figure(figsize = (20,2))\n",
        "plt.imshow(make_grid(out[0],nrow=16).numpy().transpose((1,2,0)))"
      ],
      "execution_count": 0,
      "outputs": [
        {
          "output_type": "execute_result",
          "data": {
            "text/plain": [
              "<matplotlib.image.AxesImage at 0x7f9f7c34bb00>"
            ]
          },
          "metadata": {
            "tags": []
          },
          "execution_count": 12
        },
        {
          "output_type": "display_data",
          "data": {
            "image/png": "[encoded data removed]",
            "text/plain": [
              "<Figure size 1440x144 with 1 Axes>"
            ]
          },
          "metadata": {
            "tags": []
          }
        }
      ]
    },
    {
      "cell_type": "markdown",
      "metadata": {
        "id": "r_XyTyJUEL20",
        "colab_type": "text"
      },
      "source": [
        "## Define guide"
      ]
    },
    {
      "cell_type": "code",
      "metadata": {
        "id": "rO8ZHZ2DudEk",
        "colab_type": "code",
        "colab": {}
      },
      "source": [
        "#guide = AutoDelta(pyro.poutine.block(model, expose=[\"obj_param\",\"obj_logit\"]))"
      ],
      "execution_count": 0,
      "outputs": []
    },
    {
      "cell_type": "code",
      "metadata": {
        "id": "WiK117SDNAOe",
        "colab_type": "code",
        "colab": {}
      },
      "source": [
        "encoder = nn.Sequential(nn.Conv2d(1,16,3,2,1),\n",
        "                        nn.ReLU(),\n",
        "                        nn.Conv2d(16,32,3,2,1),\n",
        "                        nn.ReLU(),\n",
        "                        nn.Conv2d(32,32,3,2,1),\n",
        "                        nn.ReLU(),\n",
        "                        nn.Conv2d(32,16,3,2,1),\n",
        "                        nn.ReLU(),\n",
        "                        nn.Conv2d(16,6,1,1))"
      ],
      "execution_count": 0,
      "outputs": []
    },
    {
      "cell_type": "code",
      "metadata": {
        "id": "a0mYeSakM4pn",
        "colab_type": "code",
        "colab": {}
      },
      "source": [
        "def guide(imgs):\n",
        "  pyro.module(\"encoder\", encoder)\n",
        "  feats = encoder(imgs).permute(0,2,3,1).view(batch_size,H,W,C,3).contiguous()\n",
        "  s1 = pyro.sample('obj_logit',dist.Delta(feats[:,:,:,:,:1]))\n",
        "  s2 = pyro.sample('obj_param',dist.Delta(feats[:,:,:,:,1:]))\n",
        "  return s1,s2"
      ],
      "execution_count": 0,
      "outputs": []
    },
    {
      "cell_type": "markdown",
      "metadata": {
        "id": "1uO7wm0lERdD",
        "colab_type": "text"
      },
      "source": [
        "## Do inference"
      ]
    },
    {
      "cell_type": "code",
      "metadata": {
        "id": "Slm06P5WS7V8",
        "colab_type": "code",
        "colab": {}
      },
      "source": [
        "pyro.clear_param_store()\n",
        "elbo = Trace_ELBO()\n",
        "optim = pyro.optim.Adam({'lr': 1e-3})\n",
        "svi = SVI(model, guide, optim, loss=elbo)"
      ],
      "execution_count": 0,
      "outputs": []
    },
    {
      "cell_type": "code",
      "metadata": {
        "id": "Q7ubkq1_TAi2",
        "colab_type": "code",
        "outputId": "5b38b42d-8768-4e17-a62f-14eaafc57f26",
        "colab": {
          "base_uri": "https://localhost:8080/",
          "height": 124
        }
      },
      "source": [
        "for _ in range(1000):\n",
        "  loss = svi.step(imgs)\n",
        "print(loss)"
      ],
      "execution_count": 0,
      "outputs": [
        {
          "output_type": "stream",
          "text": [
            "/usr/local/lib/python3.6/dist-packages/torch/nn/functional.py:2751: UserWarning: Default grid_sample and affine_grid behavior will be changed to align_corners=False from 1.4.0. See the documentation of grid_sample for details.\n",
            "  warnings.warn(\"Default grid_sample and affine_grid behavior will be changed \"\n",
            "/usr/local/lib/python3.6/dist-packages/torch/nn/functional.py:2693: UserWarning: Default grid_sample and affine_grid behavior will be changed to align_corners=False from 1.4.0. See the documentation of grid_sample for details.\n",
            "  warnings.warn(\"Default grid_sample and affine_grid behavior will be changed \"\n"
          ],
          "name": "stderr"
        },
        {
          "output_type": "stream",
          "text": [
            "273801.7240447998\n"
          ],
          "name": "stdout"
        }
      ]
    },
    {
      "cell_type": "markdown",
      "metadata": {
        "id": "tT3kOznSF1-A",
        "colab_type": "text"
      },
      "source": [
        "## Check reconstruction"
      ]
    },
    {
      "cell_type": "code",
      "metadata": {
        "id": "915WtMElTRcm",
        "colab_type": "code",
        "outputId": "1c4138b1-4891-49db-e6a6-ddb3f2657f2c",
        "colab": {
          "base_uri": "https://localhost:8080/",
          "height": 375
        }
      },
      "source": [
        "guide_trace = pyro.poutine.trace(guide).get_trace(imgs)\n",
        "out_,sample = pyro.poutine.replay(model, guide_trace)(None)\n",
        "plt.imshow(sample[0].view(img_size,img_size).detach().numpy(),cmap='gray')"
      ],
      "execution_count": 0,
      "outputs": [
        {
          "output_type": "stream",
          "text": [
            "/usr/local/lib/python3.6/dist-packages/torch/nn/functional.py:2751: UserWarning: Default grid_sample and affine_grid behavior will be changed to align_corners=False from 1.4.0. See the documentation of grid_sample for details.\n",
            "  warnings.warn(\"Default grid_sample and affine_grid behavior will be changed \"\n",
            "/usr/local/lib/python3.6/dist-packages/torch/nn/functional.py:2693: UserWarning: Default grid_sample and affine_grid behavior will be changed to align_corners=False from 1.4.0. See the documentation of grid_sample for details.\n",
            "  warnings.warn(\"Default grid_sample and affine_grid behavior will be changed \"\n"
          ],
          "name": "stderr"
        },
        {
          "output_type": "execute_result",
          "data": {
            "text/plain": [
              "<matplotlib.image.AxesImage at 0x7f9f7ae7f908>"
            ]
          },
          "metadata": {
            "tags": []
          },
          "execution_count": 18
        },
        {
          "output_type": "display_data",
          "data": {
            "image/png": "[encoded data removed]",
            "text/plain": [
              "<Figure size 432x288 with 1 Axes>"
            ]
          },
          "metadata": {
            "tags": []
          }
        }
      ]
    },
    {
      "cell_type": "code",
      "metadata": {
        "id": "_YFJW3utGJb0",
        "colab_type": "code",
        "outputId": "84848c0b-e3a4-424c-8fba-1ab247ff73aa",
        "colab": {
          "base_uri": "https://localhost:8080/",
          "height": 285
        }
      },
      "source": [
        "plt.imshow(sample[1].view(img_size,img_size).detach().numpy(),cmap='gray')"
      ],
      "execution_count": 0,
      "outputs": [
        {
          "output_type": "execute_result",
          "data": {
            "text/plain": [
              "<matplotlib.image.AxesImage at 0x7f9f7ae5efd0>"
            ]
          },
          "metadata": {
            "tags": []
          },
          "execution_count": 19
        },
        {
          "output_type": "display_data",
          "data": {
            "image/png": "[encoded data removed]",
            "text/plain": [
              "<Figure size 432x288 with 1 Axes>"
            ]
          },
          "metadata": {
            "tags": []
          }
        }
      ]
    },
    {
      "cell_type": "markdown",
      "metadata": {
        "id": "o7iVpq4LGTDG",
        "colab_type": "text"
      },
      "source": [
        "## Draw bounding box"
      ]
    },
    {
      "cell_type": "code",
      "metadata": {
        "id": "8WobUCRYIjIh",
        "colab_type": "code",
        "colab": {}
      },
      "source": [
        "def get_bbox(obj_param,obj_logit,t=0.5):\n",
        "  obj_logit = (obj_logit*logit_scale).sigmoid().view(-1)\n",
        "  img_param = obj_to_image_param(obj_param).view(-1,2)\n",
        "  filter_img_param = img_param[obj_logit>t]\n",
        "  return filter_img_param"
      ],
      "execution_count": 0,
      "outputs": []
    },
    {
      "cell_type": "code",
      "metadata": {
        "id": "7C3UM-LiDRIJ",
        "colab_type": "code",
        "colab": {}
      },
      "source": [
        "def param_to_px(img_param):\n",
        "  x = (img_size/2)+(-ratio/2)*(img_param[0])\n",
        "  y = (img_size/2)+(-ratio/2)*(img_param[1])\n",
        "  return x,y"
      ],
      "execution_count": 0,
      "outputs": []
    },
    {
      "cell_type": "code",
      "metadata": {
        "id": "us33ButPJAjh",
        "colab_type": "code",
        "colab": {}
      },
      "source": [
        "obj_logit_ = guide_trace.nodes['obj_logit']['value']\n",
        "obj_param_ = guide_trace.nodes['obj_param']['value']"
      ],
      "execution_count": 0,
      "outputs": []
    },
    {
      "cell_type": "code",
      "metadata": {
        "id": "vbGMkpJf5mTJ",
        "colab_type": "code",
        "outputId": "694cf146-30ac-4276-a1ec-2c2f2ac2af64",
        "colab": {
          "base_uri": "https://localhost:8080/",
          "height": 527
        }
      },
      "source": [
        "filter_img_param_ = get_bbox(obj_param_[0],obj_logit_[0],t=0.5)\n",
        "\n",
        "grid = widgets.Grid(2, 3)\n",
        "k = 0\n",
        "for i in range(2):\n",
        "  for j in range(3):\n",
        "    with grid.output_to(i, j):\n",
        "      x,y = param_to_px(filter_img_param_[k])\n",
        "\n",
        "      plt.figure(figsize=(2, 2))\n",
        "      plt.imshow(imgs[0].view(img_size,img_size).detach().numpy(),cmap='gray')\n",
        "      currentAxis=plt.gca()\n",
        "      rect=patches.Rectangle((x-5, y-5),obj_size,obj_size,linewidth=1,edgecolor='r',facecolor='none')\n",
        "      currentAxis.add_patch(rect)\n",
        "      k = k+1"
      ],
      "execution_count": 0,
      "outputs": [
        {
          "output_type": "display_data",
          "data": {
            "text/html": [
              "<style>\n",
              "       table#id8, #id8 > tbody > tr > th, #id8 > tbody > tr > td {\n",
              "         border: 1px solid lightgray;\n",
              "         border-collapse:collapse;\n",
              "         \n",
              "        }</style>"
            ],
            "text/plain": [
              "<IPython.core.display.HTML object>"
            ]
          },
          "metadata": {
            "tags": [
              "outputarea_id8"
            ]
          }
        },
        {
          "output_type": "display_data",
          "data": {
            "text/html": [
              "<table id=id8><tr><td id=id8-0-0></td><td id=id8-0-1></td><td id=id8-0-2></td></tr><tr><td id=id8-1-0></td><td id=id8-1-1></td><td id=id8-1-2></td></tr></table>"
            ],
            "text/plain": [
              "<IPython.core.display.HTML object>"
            ]
          },
          "metadata": {
            "tags": [
              "outputarea_id8"
            ]
          }
        },
        {
          "output_type": "display_data",
          "data": {
            "application/javascript": [
              "window[\"8dc1d0fa-31e0-11ea-90e1-0242ac1c0002\"] = google.colab.output.getActiveOutputArea();\n",
              "//# sourceURL=js_f97fbcf2ac"
            ],
            "text/plain": [
              "<IPython.core.display.Javascript object>"
            ]
          },
          "metadata": {
            "tags": [
              "id8-0-0",
              "outputarea_id8"
            ]
          }
        },
        {
          "output_type": "display_data",
          "data": {
            "application/javascript": [
              "window[\"8dc20ab6-31e0-11ea-90e1-0242ac1c0002\"] = document.querySelector(\"#id8-0-0\");\n",
              "//# sourceURL=js_90413736d0"
            ],
            "text/plain": [
              "<IPython.core.display.Javascript object>"
            ]
          },
          "metadata": {
            "tags": [
              "id8-0-0",
              "outputarea_id8"
            ]
          }
        },
        {
          "output_type": "display_data",
          "data": {
            "application/javascript": [
              "window[\"8dc2415c-31e0-11ea-90e1-0242ac1c0002\"] = google.colab.output.setActiveOutputArea(window[\"8dc20ab6-31e0-11ea-90e1-0242ac1c0002\"]);\n",
              "//# sourceURL=js_bc3bae0438"
            ],
            "text/plain": [
              "<IPython.core.display.Javascript object>"
            ]
          },
          "metadata": {
            "tags": [
              "id8-0-0",
              "outputarea_id8"
            ]
          }
        },
        {
          "output_type": "display_data",
          "data": {
            "image/png": "[encoded data removed]",
            "text/plain": [
              "<Figure size 144x144 with 1 Axes>"
            ]
          },
          "metadata": {
            "tags": [
              "id8-0-0",
              "outputarea_id8",
              "user_output"
            ]
          }
        },
        {
          "output_type": "display_data",
          "data": {
            "application/javascript": [
              "window[\"8dd78eae-31e0-11ea-90e1-0242ac1c0002\"] = google.colab.output.setActiveOutputArea(window[\"8dc1d0fa-31e0-11ea-90e1-0242ac1c0002\"]);\n",
              "//# sourceURL=js_7746b75bab"
            ],
            "text/plain": [
              "<IPython.core.display.Javascript object>"
            ]
          },
          "metadata": {
            "tags": [
              "id8-0-0",
              "outputarea_id8"
            ]
          }
        },
        {
          "output_type": "display_data",
          "data": {
            "application/javascript": [
              "window[\"8dd89286-31e0-11ea-90e1-0242ac1c0002\"] = google.colab.output.getActiveOutputArea();\n",
              "//# sourceURL=js_576afd2816"
            ],
            "text/plain": [
              "<IPython.core.display.Javascript object>"
            ]
          },
          "metadata": {
            "tags": [
              "id8-0-1",
              "outputarea_id8"
            ]
          }
        },
        {
          "output_type": "display_data",
          "data": {
            "application/javascript": [
              "window[\"8dd8dfd4-31e0-11ea-90e1-0242ac1c0002\"] = document.querySelector(\"#id8-0-1\");\n",
              "//# sourceURL=js_79eda25afa"
            ],
            "text/plain": [
              "<IPython.core.display.Javascript object>"
            ]
          },
          "metadata": {
            "tags": [
              "id8-0-1",
              "outputarea_id8"
            ]
          }
        },
        {
          "output_type": "display_data",
          "data": {
            "application/javascript": [
              "window[\"8dd9293a-31e0-11ea-90e1-0242ac1c0002\"] = google.colab.output.setActiveOutputArea(window[\"8dd8dfd4-31e0-11ea-90e1-0242ac1c0002\"]);\n",
              "//# sourceURL=js_b6e04670c8"
            ],
            "text/plain": [
              "<IPython.core.display.Javascript object>"
            ]
          },
          "metadata": {
            "tags": [
              "id8-0-1",
              "outputarea_id8"
            ]
          }
        },
        {
          "output_type": "display_data",
          "data": {
            "image/png": "[encoded data removed]",
            "text/plain": [
              "<Figure size 144x144 with 1 Axes>"
            ]
          },
          "metadata": {
            "tags": [
              "id8-0-1",
              "outputarea_id8",
              "user_output"
            ]
          }
        },
        {
          "output_type": "display_data",
          "data": {
            "application/javascript": [
              "window[\"8dee4360-31e0-11ea-90e1-0242ac1c0002\"] = google.colab.output.setActiveOutputArea(window[\"8dd89286-31e0-11ea-90e1-0242ac1c0002\"]);\n",
              "//# sourceURL=js_f2571504c8"
            ],
            "text/plain": [
              "<IPython.core.display.Javascript object>"
            ]
          },
          "metadata": {
            "tags": [
              "id8-0-1",
              "outputarea_id8"
            ]
          }
        },
        {
          "output_type": "display_data",
          "data": {
            "application/javascript": [
              "window[\"8defba7e-31e0-11ea-90e1-0242ac1c0002\"] = google.colab.output.getActiveOutputArea();\n",
              "//# sourceURL=js_04f903717d"
            ],
            "text/plain": [
              "<IPython.core.display.Javascript object>"
            ]
          },
          "metadata": {
            "tags": [
              "id8-0-2",
              "outputarea_id8"
            ]
          }
        },
        {
          "output_type": "display_data",
          "data": {
            "application/javascript": [
              "window[\"8df01154-31e0-11ea-90e1-0242ac1c0002\"] = document.querySelector(\"#id8-0-2\");\n",
              "//# sourceURL=js_ebdbe0e3bc"
            ],
            "text/plain": [
              "<IPython.core.display.Javascript object>"
            ]
          },
          "metadata": {
            "tags": [
              "id8-0-2",
              "outputarea_id8"
            ]
          }
        },
        {
          "output_type": "display_data",
          "data": {
            "application/javascript": [
              "window[\"8df05e7a-31e0-11ea-90e1-0242ac1c0002\"] = google.colab.output.setActiveOutputArea(window[\"8df01154-31e0-11ea-90e1-0242ac1c0002\"]);\n",
              "//# sourceURL=js_eda2767a55"
            ],
            "text/plain": [
              "<IPython.core.display.Javascript object>"
            ]
          },
          "metadata": {
            "tags": [
              "id8-0-2",
              "outputarea_id8"
            ]
          }
        },
        {
          "output_type": "display_data",
          "data": {
            "image/png": "[encoded data removed]",
            "text/plain": [
              "<Figure size 144x144 with 1 Axes>"
            ]
          },
          "metadata": {
            "tags": [
              "id8-0-2",
              "outputarea_id8",
              "user_output"
            ]
          }
        },
        {
          "output_type": "display_data",
          "data": {
            "application/javascript": [
              "window[\"8e044ba6-31e0-11ea-90e1-0242ac1c0002\"] = google.colab.output.setActiveOutputArea(window[\"8defba7e-31e0-11ea-90e1-0242ac1c0002\"]);\n",
              "//# sourceURL=js_8b8c2256f3"
            ],
            "text/plain": [
              "<IPython.core.display.Javascript object>"
            ]
          },
          "metadata": {
            "tags": [
              "id8-0-2",
              "outputarea_id8"
            ]
          }
        },
        {
          "output_type": "display_data",
          "data": {
            "application/javascript": [
              "window[\"8e05f6cc-31e0-11ea-90e1-0242ac1c0002\"] = google.colab.output.getActiveOutputArea();\n",
              "//# sourceURL=js_41d55f556c"
            ],
            "text/plain": [
              "<IPython.core.display.Javascript object>"
            ]
          },
          "metadata": {
            "tags": [
              "id8-1-0",
              "outputarea_id8"
            ]
          }
        },
        {
          "output_type": "display_data",
          "data": {
            "application/javascript": [
              "window[\"8e064f82-31e0-11ea-90e1-0242ac1c0002\"] = document.querySelector(\"#id8-1-0\");\n",
              "//# sourceURL=js_0a935627db"
            ],
            "text/plain": [
              "<IPython.core.display.Javascript object>"
            ]
          },
          "metadata": {
            "tags": [
              "id8-1-0",
              "outputarea_id8"
            ]
          }
        },
        {
          "output_type": "display_data",
          "data": {
            "application/javascript": [
              "window[\"8e069d2a-31e0-11ea-90e1-0242ac1c0002\"] = google.colab.output.setActiveOutputArea(window[\"8e064f82-31e0-11ea-90e1-0242ac1c0002\"]);\n",
              "//# sourceURL=js_485b25e5f8"
            ],
            "text/plain": [
              "<IPython.core.display.Javascript object>"
            ]
          },
          "metadata": {
            "tags": [
              "id8-1-0",
              "outputarea_id8"
            ]
          }
        },
        {
          "output_type": "display_data",
          "data": {
            "image/png": "[encoded data removed]",
            "text/plain": [
              "<Figure size 144x144 with 1 Axes>"
            ]
          },
          "metadata": {
            "tags": [
              "id8-1-0",
              "outputarea_id8",
              "user_output"
            ]
          }
        },
        {
          "output_type": "display_data",
          "data": {
            "application/javascript": [
              "window[\"8e18e32c-31e0-11ea-90e1-0242ac1c0002\"] = google.colab.output.setActiveOutputArea(window[\"8e05f6cc-31e0-11ea-90e1-0242ac1c0002\"]);\n",
              "//# sourceURL=js_4a86d171d5"
            ],
            "text/plain": [
              "<IPython.core.display.Javascript object>"
            ]
          },
          "metadata": {
            "tags": [
              "id8-1-0",
              "outputarea_id8"
            ]
          }
        },
        {
          "output_type": "display_data",
          "data": {
            "application/javascript": [
              "window[\"8e1a8bbe-31e0-11ea-90e1-0242ac1c0002\"] = google.colab.output.getActiveOutputArea();\n",
              "//# sourceURL=js_3182ec3460"
            ],
            "text/plain": [
              "<IPython.core.display.Javascript object>"
            ]
          },
          "metadata": {
            "tags": [
              "id8-1-1",
              "outputarea_id8"
            ]
          }
        },
        {
          "output_type": "display_data",
          "data": {
            "application/javascript": [
              "window[\"8e1ae49c-31e0-11ea-90e1-0242ac1c0002\"] = document.querySelector(\"#id8-1-1\");\n",
              "//# sourceURL=js_d4ae3997e9"
            ],
            "text/plain": [
              "<IPython.core.display.Javascript object>"
            ]
          },
          "metadata": {
            "tags": [
              "id8-1-1",
              "outputarea_id8"
            ]
          }
        },
        {
          "output_type": "display_data",
          "data": {
            "application/javascript": [
              "window[\"8e1b3212-31e0-11ea-90e1-0242ac1c0002\"] = google.colab.output.setActiveOutputArea(window[\"8e1ae49c-31e0-11ea-90e1-0242ac1c0002\"]);\n",
              "//# sourceURL=js_6c72949dd7"
            ],
            "text/plain": [
              "<IPython.core.display.Javascript object>"
            ]
          },
          "metadata": {
            "tags": [
              "id8-1-1",
              "outputarea_id8"
            ]
          }
        },
        {
          "output_type": "display_data",
          "data": {
            "image/png": "[encoded data removed]",
            "text/plain": [
              "<Figure size 144x144 with 1 Axes>"
            ]
          },
          "metadata": {
            "tags": [
              "id8-1-1",
              "outputarea_id8",
              "user_output"
            ]
          }
        },
        {
          "output_type": "display_data",
          "data": {
            "application/javascript": [
              "window[\"8e2e3e2a-31e0-11ea-90e1-0242ac1c0002\"] = google.colab.output.setActiveOutputArea(window[\"8e1a8bbe-31e0-11ea-90e1-0242ac1c0002\"]);\n",
              "//# sourceURL=js_2e0da46145"
            ],
            "text/plain": [
              "<IPython.core.display.Javascript object>"
            ]
          },
          "metadata": {
            "tags": [
              "id8-1-1",
              "outputarea_id8"
            ]
          }
        },
        {
          "output_type": "display_data",
          "data": {
            "application/javascript": [
              "window[\"8e2fdcd0-31e0-11ea-90e1-0242ac1c0002\"] = google.colab.output.getActiveOutputArea();\n",
              "//# sourceURL=js_46182105f8"
            ],
            "text/plain": [
              "<IPython.core.display.Javascript object>"
            ]
          },
          "metadata": {
            "tags": [
              "id8-1-2",
              "outputarea_id8"
            ]
          }
        },
        {
          "output_type": "display_data",
          "data": {
            "application/javascript": [
              "window[\"8e302b40-31e0-11ea-90e1-0242ac1c0002\"] = document.querySelector(\"#id8-1-2\");\n",
              "//# sourceURL=js_17341eb53b"
            ],
            "text/plain": [
              "<IPython.core.display.Javascript object>"
            ]
          },
          "metadata": {
            "tags": [
              "id8-1-2",
              "outputarea_id8"
            ]
          }
        },
        {
          "output_type": "display_data",
          "data": {
            "application/javascript": [
              "window[\"8e30848c-31e0-11ea-90e1-0242ac1c0002\"] = google.colab.output.setActiveOutputArea(window[\"8e302b40-31e0-11ea-90e1-0242ac1c0002\"]);\n",
              "//# sourceURL=js_25020d4b9a"
            ],
            "text/plain": [
              "<IPython.core.display.Javascript object>"
            ]
          },
          "metadata": {
            "tags": [
              "id8-1-2",
              "outputarea_id8"
            ]
          }
        },
        {
          "output_type": "display_data",
          "data": {
            "application/javascript": [
              "window[\"8e3165e6-31e0-11ea-90e1-0242ac1c0002\"] = google.colab.output.setActiveOutputArea(window[\"8e2fdcd0-31e0-11ea-90e1-0242ac1c0002\"]);\n",
              "//# sourceURL=js_c0e70b100c"
            ],
            "text/plain": [
              "<IPython.core.display.Javascript object>"
            ]
          },
          "metadata": {
            "tags": [
              "id8-1-2",
              "outputarea_id8"
            ]
          }
        },
        {
          "output_type": "error",
          "ename": "IndexError",
          "evalue": "ignored",
          "traceback": [
            "\u001b[0;31m---------------------------------------------------------------------------\u001b[0m",
            "\u001b[0;31mIndexError\u001b[0m                                Traceback (most recent call last)",
            "\u001b[0;32m<ipython-input-26-c0fee96c641a>\u001b[0m in \u001b[0;36m<module>\u001b[0;34m()\u001b[0m\n\u001b[1;32m      6\u001b[0m   \u001b[0;32mfor\u001b[0m \u001b[0mj\u001b[0m \u001b[0;32min\u001b[0m \u001b[0mrange\u001b[0m\u001b[0;34m(\u001b[0m\u001b[0;36m3\u001b[0m\u001b[0;34m)\u001b[0m\u001b[0;34m:\u001b[0m\u001b[0;34m\u001b[0m\u001b[0;34m\u001b[0m\u001b[0m\n\u001b[1;32m      7\u001b[0m     \u001b[0;32mwith\u001b[0m \u001b[0mgrid\u001b[0m\u001b[0;34m.\u001b[0m\u001b[0moutput_to\u001b[0m\u001b[0;34m(\u001b[0m\u001b[0mi\u001b[0m\u001b[0;34m,\u001b[0m \u001b[0mj\u001b[0m\u001b[0;34m)\u001b[0m\u001b[0;34m:\u001b[0m\u001b[0;34m\u001b[0m\u001b[0;34m\u001b[0m\u001b[0m\n\u001b[0;32m----> 8\u001b[0;31m       \u001b[0mx\u001b[0m\u001b[0;34m,\u001b[0m\u001b[0my\u001b[0m \u001b[0;34m=\u001b[0m \u001b[0mparam_to_px\u001b[0m\u001b[0;34m(\u001b[0m\u001b[0mfilter_img_param_\u001b[0m\u001b[0;34m[\u001b[0m\u001b[0mk\u001b[0m\u001b[0;34m]\u001b[0m\u001b[0;34m)\u001b[0m\u001b[0;34m\u001b[0m\u001b[0;34m\u001b[0m\u001b[0m\n\u001b[0m\u001b[1;32m      9\u001b[0m \u001b[0;34m\u001b[0m\u001b[0m\n\u001b[1;32m     10\u001b[0m       \u001b[0mplt\u001b[0m\u001b[0;34m.\u001b[0m\u001b[0mfigure\u001b[0m\u001b[0;34m(\u001b[0m\u001b[0mfigsize\u001b[0m\u001b[0;34m=\u001b[0m\u001b[0;34m(\u001b[0m\u001b[0;36m2\u001b[0m\u001b[0;34m,\u001b[0m \u001b[0;36m2\u001b[0m\u001b[0;34m)\u001b[0m\u001b[0;34m)\u001b[0m\u001b[0;34m\u001b[0m\u001b[0;34m\u001b[0m\u001b[0m\n",
            "\u001b[0;31mIndexError\u001b[0m: index 5 is out of bounds for dimension 0 with size 5"
          ]
        }
      ]
    },
    {
      "cell_type": "code",
      "metadata": {
        "id": "UT8ZgtoKTVgd",
        "colab_type": "code",
        "outputId": "8517d22b-f2dc-41b9-d980-7a00832c8a0b",
        "colab": {
          "base_uri": "https://localhost:8080/",
          "height": 527
        }
      },
      "source": [
        "filter_img_param_ = get_bbox(obj_param_[1],obj_logit_[1],t=0.5)\n",
        "\n",
        "grid = widgets.Grid(2, 3)\n",
        "k = 0\n",
        "for i in range(2):\n",
        "  for j in range(3):\n",
        "    with grid.output_to(i, j):\n",
        "      x,y = param_to_px(filter_img_param_[k])\n",
        "\n",
        "      plt.figure(figsize=(2, 2))\n",
        "      plt.imshow(imgs[1].view(img_size,img_size).detach().numpy(),cmap='gray')\n",
        "      currentAxis=plt.gca()\n",
        "      rect=patches.Rectangle((x-4, y-4),obj_size,obj_size,linewidth=1,edgecolor='r',facecolor='none')\n",
        "      currentAxis.add_patch(rect)\n",
        "      k = k+1"
      ],
      "execution_count": 0,
      "outputs": [
        {
          "output_type": "display_data",
          "data": {
            "text/html": [
              "<style>\n",
              "       table#id10, #id10 > tbody > tr > th, #id10 > tbody > tr > td {\n",
              "         border: 1px solid lightgray;\n",
              "         border-collapse:collapse;\n",
              "         \n",
              "        }</style>"
            ],
            "text/plain": [
              "<IPython.core.display.HTML object>"
            ]
          },
          "metadata": {
            "tags": [
              "outputarea_id10"
            ]
          }
        },
        {
          "output_type": "display_data",
          "data": {
            "text/html": [
              "<table id=id10><tr><td id=id10-0-0></td><td id=id10-0-1></td><td id=id10-0-2></td></tr><tr><td id=id10-1-0></td><td id=id10-1-1></td><td id=id10-1-2></td></tr></table>"
            ],
            "text/plain": [
              "<IPython.core.display.HTML object>"
            ]
          },
          "metadata": {
            "tags": [
              "outputarea_id10"
            ]
          }
        },
        {
          "output_type": "display_data",
          "data": {
            "application/javascript": [
              "window[\"90582f30-31e0-11ea-90e1-0242ac1c0002\"] = google.colab.output.getActiveOutputArea();\n",
              "//# sourceURL=js_0a6cfc0d39"
            ],
            "text/plain": [
              "<IPython.core.display.Javascript object>"
            ]
          },
          "metadata": {
            "tags": [
              "id10-0-0",
              "outputarea_id10"
            ]
          }
        },
        {
          "output_type": "display_data",
          "data": {
            "application/javascript": [
              "window[\"90588e80-31e0-11ea-90e1-0242ac1c0002\"] = document.querySelector(\"#id10-0-0\");\n",
              "//# sourceURL=js_8a2048a08c"
            ],
            "text/plain": [
              "<IPython.core.display.Javascript object>"
            ]
          },
          "metadata": {
            "tags": [
              "id10-0-0",
              "outputarea_id10"
            ]
          }
        },
        {
          "output_type": "display_data",
          "data": {
            "application/javascript": [
              "window[\"9058fb5e-31e0-11ea-90e1-0242ac1c0002\"] = google.colab.output.setActiveOutputArea(window[\"90588e80-31e0-11ea-90e1-0242ac1c0002\"]);\n",
              "//# sourceURL=js_b47378d366"
            ],
            "text/plain": [
              "<IPython.core.display.Javascript object>"
            ]
          },
          "metadata": {
            "tags": [
              "id10-0-0",
              "outputarea_id10"
            ]
          }
        },
        {
          "output_type": "display_data",
          "data": {
            "image/png": "[encoded data removed]",
            "text/plain": [
              "<Figure size 144x144 with 1 Axes>"
            ]
          },
          "metadata": {
            "tags": [
              "id10-0-0",
              "outputarea_id10",
              "user_output"
            ]
          }
        },
        {
          "output_type": "display_data",
          "data": {
            "application/javascript": [
              "window[\"906cb6e4-31e0-11ea-90e1-0242ac1c0002\"] = google.colab.output.setActiveOutputArea(window[\"90582f30-31e0-11ea-90e1-0242ac1c0002\"]);\n",
              "//# sourceURL=js_ae9e812d4c"
            ],
            "text/plain": [
              "<IPython.core.display.Javascript object>"
            ]
          },
          "metadata": {
            "tags": [
              "id10-0-0",
              "outputarea_id10"
            ]
          }
        },
        {
          "output_type": "display_data",
          "data": {
            "application/javascript": [
              "window[\"906e8438-31e0-11ea-90e1-0242ac1c0002\"] = google.colab.output.getActiveOutputArea();\n",
              "//# sourceURL=js_6884e82a3f"
            ],
            "text/plain": [
              "<IPython.core.display.Javascript object>"
            ]
          },
          "metadata": {
            "tags": [
              "id10-0-1",
              "outputarea_id10"
            ]
          }
        },
        {
          "output_type": "display_data",
          "data": {
            "application/javascript": [
              "window[\"906ed28a-31e0-11ea-90e1-0242ac1c0002\"] = document.querySelector(\"#id10-0-1\");\n",
              "//# sourceURL=js_c82d3400b0"
            ],
            "text/plain": [
              "<IPython.core.display.Javascript object>"
            ]
          },
          "metadata": {
            "tags": [
              "id10-0-1",
              "outputarea_id10"
            ]
          }
        },
        {
          "output_type": "display_data",
          "data": {
            "application/javascript": [
              "window[\"906f3356-31e0-11ea-90e1-0242ac1c0002\"] = google.colab.output.setActiveOutputArea(window[\"906ed28a-31e0-11ea-90e1-0242ac1c0002\"]);\n",
              "//# sourceURL=js_378b3bdfb2"
            ],
            "text/plain": [
              "<IPython.core.display.Javascript object>"
            ]
          },
          "metadata": {
            "tags": [
              "id10-0-1",
              "outputarea_id10"
            ]
          }
        },
        {
          "output_type": "display_data",
          "data": {
            "image/png": "[encoded data removed]",
            "text/plain": [
              "<Figure size 144x144 with 1 Axes>"
            ]
          },
          "metadata": {
            "tags": [
              "id10-0-1",
              "outputarea_id10",
              "user_output"
            ]
          }
        },
        {
          "output_type": "display_data",
          "data": {
            "application/javascript": [
              "window[\"9082da00-31e0-11ea-90e1-0242ac1c0002\"] = google.colab.output.setActiveOutputArea(window[\"906e8438-31e0-11ea-90e1-0242ac1c0002\"]);\n",
              "//# sourceURL=js_9c07c9c133"
            ],
            "text/plain": [
              "<IPython.core.display.Javascript object>"
            ]
          },
          "metadata": {
            "tags": [
              "id10-0-1",
              "outputarea_id10"
            ]
          }
        },
        {
          "output_type": "display_data",
          "data": {
            "application/javascript": [
              "window[\"90848486-31e0-11ea-90e1-0242ac1c0002\"] = google.colab.output.getActiveOutputArea();\n",
              "//# sourceURL=js_c0b3bb3f32"
            ],
            "text/plain": [
              "<IPython.core.display.Javascript object>"
            ]
          },
          "metadata": {
            "tags": [
              "id10-0-2",
              "outputarea_id10"
            ]
          }
        },
        {
          "output_type": "display_data",
          "data": {
            "application/javascript": [
              "window[\"9084d13e-31e0-11ea-90e1-0242ac1c0002\"] = document.querySelector(\"#id10-0-2\");\n",
              "//# sourceURL=js_e75240b14b"
            ],
            "text/plain": [
              "<IPython.core.display.Javascript object>"
            ]
          },
          "metadata": {
            "tags": [
              "id10-0-2",
              "outputarea_id10"
            ]
          }
        },
        {
          "output_type": "display_data",
          "data": {
            "application/javascript": [
              "window[\"90851b1c-31e0-11ea-90e1-0242ac1c0002\"] = google.colab.output.setActiveOutputArea(window[\"9084d13e-31e0-11ea-90e1-0242ac1c0002\"]);\n",
              "//# sourceURL=js_2b36ce18ad"
            ],
            "text/plain": [
              "<IPython.core.display.Javascript object>"
            ]
          },
          "metadata": {
            "tags": [
              "id10-0-2",
              "outputarea_id10"
            ]
          }
        },
        {
          "output_type": "display_data",
          "data": {
            "image/png": "[encoded data removed]",
            "text/plain": [
              "<Figure size 144x144 with 1 Axes>"
            ]
          },
          "metadata": {
            "tags": [
              "id10-0-2",
              "outputarea_id10",
              "user_output"
            ]
          }
        },
        {
          "output_type": "display_data",
          "data": {
            "application/javascript": [
              "window[\"90980682-31e0-11ea-90e1-0242ac1c0002\"] = google.colab.output.setActiveOutputArea(window[\"90848486-31e0-11ea-90e1-0242ac1c0002\"]);\n",
              "//# sourceURL=js_18a0359cde"
            ],
            "text/plain": [
              "<IPython.core.display.Javascript object>"
            ]
          },
          "metadata": {
            "tags": [
              "id10-0-2",
              "outputarea_id10"
            ]
          }
        },
        {
          "output_type": "display_data",
          "data": {
            "application/javascript": [
              "window[\"9099d494-31e0-11ea-90e1-0242ac1c0002\"] = google.colab.output.getActiveOutputArea();\n",
              "//# sourceURL=js_2b3de2f644"
            ],
            "text/plain": [
              "<IPython.core.display.Javascript object>"
            ]
          },
          "metadata": {
            "tags": [
              "id10-1-0",
              "outputarea_id10"
            ]
          }
        },
        {
          "output_type": "display_data",
          "data": {
            "application/javascript": [
              "window[\"909a325e-31e0-11ea-90e1-0242ac1c0002\"] = document.querySelector(\"#id10-1-0\");\n",
              "//# sourceURL=js_f4d39c8781"
            ],
            "text/plain": [
              "<IPython.core.display.Javascript object>"
            ]
          },
          "metadata": {
            "tags": [
              "id10-1-0",
              "outputarea_id10"
            ]
          }
        },
        {
          "output_type": "display_data",
          "data": {
            "application/javascript": [
              "window[\"909a7f3e-31e0-11ea-90e1-0242ac1c0002\"] = google.colab.output.setActiveOutputArea(window[\"909a325e-31e0-11ea-90e1-0242ac1c0002\"]);\n",
              "//# sourceURL=js_585ce427cc"
            ],
            "text/plain": [
              "<IPython.core.display.Javascript object>"
            ]
          },
          "metadata": {
            "tags": [
              "id10-1-0",
              "outputarea_id10"
            ]
          }
        },
        {
          "output_type": "display_data",
          "data": {
            "image/png": "[encoded data removed]",
            "text/plain": [
              "<Figure size 144x144 with 1 Axes>"
            ]
          },
          "metadata": {
            "tags": [
              "id10-1-0",
              "outputarea_id10",
              "user_output"
            ]
          }
        },
        {
          "output_type": "display_data",
          "data": {
            "application/javascript": [
              "window[\"90acbab4-31e0-11ea-90e1-0242ac1c0002\"] = google.colab.output.setActiveOutputArea(window[\"9099d494-31e0-11ea-90e1-0242ac1c0002\"]);\n",
              "//# sourceURL=js_8283991b0d"
            ],
            "text/plain": [
              "<IPython.core.display.Javascript object>"
            ]
          },
          "metadata": {
            "tags": [
              "id10-1-0",
              "outputarea_id10"
            ]
          }
        },
        {
          "output_type": "display_data",
          "data": {
            "application/javascript": [
              "window[\"90ae3164-31e0-11ea-90e1-0242ac1c0002\"] = google.colab.output.getActiveOutputArea();\n",
              "//# sourceURL=js_503e5e7df3"
            ],
            "text/plain": [
              "<IPython.core.display.Javascript object>"
            ]
          },
          "metadata": {
            "tags": [
              "id10-1-1",
              "outputarea_id10"
            ]
          }
        },
        {
          "output_type": "display_data",
          "data": {
            "application/javascript": [
              "window[\"90ae7fde-31e0-11ea-90e1-0242ac1c0002\"] = document.querySelector(\"#id10-1-1\");\n",
              "//# sourceURL=js_797144a97c"
            ],
            "text/plain": [
              "<IPython.core.display.Javascript object>"
            ]
          },
          "metadata": {
            "tags": [
              "id10-1-1",
              "outputarea_id10"
            ]
          }
        },
        {
          "output_type": "display_data",
          "data": {
            "application/javascript": [
              "window[\"90aed8f8-31e0-11ea-90e1-0242ac1c0002\"] = google.colab.output.setActiveOutputArea(window[\"90ae7fde-31e0-11ea-90e1-0242ac1c0002\"]);\n",
              "//# sourceURL=js_11ea19627f"
            ],
            "text/plain": [
              "<IPython.core.display.Javascript object>"
            ]
          },
          "metadata": {
            "tags": [
              "id10-1-1",
              "outputarea_id10"
            ]
          }
        },
        {
          "output_type": "display_data",
          "data": {
            "image/png": "[encoded data removed]",
            "text/plain": [
              "<Figure size 144x144 with 1 Axes>"
            ]
          },
          "metadata": {
            "tags": [
              "id10-1-1",
              "outputarea_id10",
              "user_output"
            ]
          }
        },
        {
          "output_type": "display_data",
          "data": {
            "application/javascript": [
              "window[\"90d12cd2-31e0-11ea-90e1-0242ac1c0002\"] = google.colab.output.setActiveOutputArea(window[\"90ae3164-31e0-11ea-90e1-0242ac1c0002\"]);\n",
              "//# sourceURL=js_4c621b3e16"
            ],
            "text/plain": [
              "<IPython.core.display.Javascript object>"
            ]
          },
          "metadata": {
            "tags": [
              "id10-1-1",
              "outputarea_id10"
            ]
          }
        },
        {
          "output_type": "display_data",
          "data": {
            "application/javascript": [
              "window[\"90d2c98e-31e0-11ea-90e1-0242ac1c0002\"] = google.colab.output.getActiveOutputArea();\n",
              "//# sourceURL=js_45787525c7"
            ],
            "text/plain": [
              "<IPython.core.display.Javascript object>"
            ]
          },
          "metadata": {
            "tags": [
              "id10-1-2",
              "outputarea_id10"
            ]
          }
        },
        {
          "output_type": "display_data",
          "data": {
            "application/javascript": [
              "window[\"90d315e2-31e0-11ea-90e1-0242ac1c0002\"] = document.querySelector(\"#id10-1-2\");\n",
              "//# sourceURL=js_6221955966"
            ],
            "text/plain": [
              "<IPython.core.display.Javascript object>"
            ]
          },
          "metadata": {
            "tags": [
              "id10-1-2",
              "outputarea_id10"
            ]
          }
        },
        {
          "output_type": "display_data",
          "data": {
            "application/javascript": [
              "window[\"90d36cea-31e0-11ea-90e1-0242ac1c0002\"] = google.colab.output.setActiveOutputArea(window[\"90d315e2-31e0-11ea-90e1-0242ac1c0002\"]);\n",
              "//# sourceURL=js_506fe624f2"
            ],
            "text/plain": [
              "<IPython.core.display.Javascript object>"
            ]
          },
          "metadata": {
            "tags": [
              "id10-1-2",
              "outputarea_id10"
            ]
          }
        },
        {
          "output_type": "display_data",
          "data": {
            "application/javascript": [
              "window[\"90d44584-31e0-11ea-90e1-0242ac1c0002\"] = google.colab.output.setActiveOutputArea(window[\"90d2c98e-31e0-11ea-90e1-0242ac1c0002\"]);\n",
              "//# sourceURL=js_28305197e6"
            ],
            "text/plain": [
              "<IPython.core.display.Javascript object>"
            ]
          },
          "metadata": {
            "tags": [
              "id10-1-2",
              "outputarea_id10"
            ]
          }
        },
        {
          "output_type": "error",
          "ename": "IndexError",
          "evalue": "ignored",
          "traceback": [
            "\u001b[0;31m---------------------------------------------------------------------------\u001b[0m",
            "\u001b[0;31mIndexError\u001b[0m                                Traceback (most recent call last)",
            "\u001b[0;32m<ipython-input-27-45cc47e49395>\u001b[0m in \u001b[0;36m<module>\u001b[0;34m()\u001b[0m\n\u001b[1;32m      6\u001b[0m   \u001b[0;32mfor\u001b[0m \u001b[0mj\u001b[0m \u001b[0;32min\u001b[0m \u001b[0mrange\u001b[0m\u001b[0;34m(\u001b[0m\u001b[0;36m3\u001b[0m\u001b[0;34m)\u001b[0m\u001b[0;34m:\u001b[0m\u001b[0;34m\u001b[0m\u001b[0;34m\u001b[0m\u001b[0m\n\u001b[1;32m      7\u001b[0m     \u001b[0;32mwith\u001b[0m \u001b[0mgrid\u001b[0m\u001b[0;34m.\u001b[0m\u001b[0moutput_to\u001b[0m\u001b[0;34m(\u001b[0m\u001b[0mi\u001b[0m\u001b[0;34m,\u001b[0m \u001b[0mj\u001b[0m\u001b[0;34m)\u001b[0m\u001b[0;34m:\u001b[0m\u001b[0;34m\u001b[0m\u001b[0;34m\u001b[0m\u001b[0m\n\u001b[0;32m----> 8\u001b[0;31m       \u001b[0mx\u001b[0m\u001b[0;34m,\u001b[0m\u001b[0my\u001b[0m \u001b[0;34m=\u001b[0m \u001b[0mparam_to_px\u001b[0m\u001b[0;34m(\u001b[0m\u001b[0mfilter_img_param_\u001b[0m\u001b[0;34m[\u001b[0m\u001b[0mk\u001b[0m\u001b[0;34m]\u001b[0m\u001b[0;34m)\u001b[0m\u001b[0;34m\u001b[0m\u001b[0;34m\u001b[0m\u001b[0m\n\u001b[0m\u001b[1;32m      9\u001b[0m \u001b[0;34m\u001b[0m\u001b[0m\n\u001b[1;32m     10\u001b[0m       \u001b[0mplt\u001b[0m\u001b[0;34m.\u001b[0m\u001b[0mfigure\u001b[0m\u001b[0;34m(\u001b[0m\u001b[0mfigsize\u001b[0m\u001b[0;34m=\u001b[0m\u001b[0;34m(\u001b[0m\u001b[0;36m2\u001b[0m\u001b[0;34m,\u001b[0m \u001b[0;36m2\u001b[0m\u001b[0;34m)\u001b[0m\u001b[0;34m)\u001b[0m\u001b[0;34m\u001b[0m\u001b[0;34m\u001b[0m\u001b[0m\n",
            "\u001b[0;31mIndexError\u001b[0m: index 5 is out of bounds for dimension 0 with size 5"
          ]
        }
      ]
    }
  ]
}