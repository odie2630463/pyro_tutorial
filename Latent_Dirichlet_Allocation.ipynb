{
  "nbformat": 4,
  "nbformat_minor": 0,
  "metadata": {
    "colab": {
      "name": "Latent Dirichlet Allocation.ipynb",
      "provenance": [],
      "collapsed_sections": [],
      "include_colab_link": true
    },
    "kernelspec": {
      "name": "python3",
      "display_name": "Python 3"
    },
    "accelerator": "GPU"
  },
  "cells": [
    {
      "cell_type": "markdown",
      "metadata": {
        "id": "view-in-github",
        "colab_type": "text"
      },
      "source": [
        "<a href=\"https://colab.research.google.com/github/odie2630463/pyro_tutorial/blob/master/Latent_Dirichlet_Allocation.ipynb\" target=\"_parent\"><img src=\"https://colab.research.google.com/assets/colab-badge.svg\" alt=\"Open In Colab\"/></a>"
      ]
    },
    {
      "cell_type": "code",
      "metadata": {
        "id": "P1z7wz6Dzxo4",
        "colab_type": "code",
        "outputId": "baad8139-4253-4062-f8a4-c78aa07c9fa8",
        "colab": {
          "base_uri": "https://localhost:8080/",
          "height": 557
        }
      },
      "source": [
        "!pip install pyro-ppl"
      ],
      "execution_count": 0,
      "outputs": [
        {
          "output_type": "stream",
          "text": [
            "Collecting pyro-ppl\n",
            "\u001b[?25l  Downloading https://files.pythonhosted.org/packages/3b/e6/1a027bd9c4d9b6198de073b168e747fce27ba1f8893731499208af2c5cc7/pyro-ppl-0.4.1.tar.gz (271kB)\n",
            "\u001b[K     |████████████████████████████████| 276kB 6.4MB/s \n",
            "\u001b[?25hRequirement already satisfied: graphviz>=0.8 in /usr/local/lib/python3.6/dist-packages (from pyro-ppl) (0.10.1)\n",
            "Requirement already satisfied: numpy>=1.7 in /usr/local/lib/python3.6/dist-packages (from pyro-ppl) (1.16.5)\n",
            "Requirement already satisfied: opt_einsum>=2.3.2 in /usr/local/lib/python3.6/dist-packages (from pyro-ppl) (3.0.1)\n",
            "Collecting torch>=1.2.0 (from pyro-ppl)\n",
            "\u001b[?25l  Downloading https://files.pythonhosted.org/packages/30/57/d5cceb0799c06733eefce80c395459f28970ebb9e896846ce96ab579a3f1/torch-1.2.0-cp36-cp36m-manylinux1_x86_64.whl (748.8MB)\n",
            "\u001b[K     |████████████████████████████████| 748.9MB 19kB/s \n",
            "\u001b[?25hCollecting tqdm>=4.31 (from pyro-ppl)\n",
            "\u001b[?25l  Downloading https://files.pythonhosted.org/packages/dc/88/d3213e2f3492daf09d8b41631ad6899f56db17ce83ea9c8a579902bafe5e/tqdm-4.35.0-py2.py3-none-any.whl (50kB)\n",
            "\u001b[K     |████████████████████████████████| 51kB 21.2MB/s \n",
            "\u001b[?25hBuilding wheels for collected packages: pyro-ppl\n",
            "  Building wheel for pyro-ppl (setup.py) ... \u001b[?25l\u001b[?25hdone\n",
            "  Created wheel for pyro-ppl: filename=pyro_ppl-0.4.1-cp36-none-any.whl size=371731 sha256=621637853039cdd726d69e7582a6af92d029dc67b565dc25e9d0dbe0b7e4175c\n",
            "  Stored in directory: /root/.cache/pip/wheels/fb/47/97/848e699fb40fc9fd17f421c135cf7bc121dcf3f0c8519e89b2\n",
            "Successfully built pyro-ppl\n",
            "Installing collected packages: torch, tqdm, pyro-ppl\n",
            "  Found existing installation: torch 1.1.0\n",
            "    Uninstalling torch-1.1.0:\n",
            "      Successfully uninstalled torch-1.1.0\n",
            "  Found existing installation: tqdm 4.28.1\n",
            "    Uninstalling tqdm-4.28.1:\n",
            "      Successfully uninstalled tqdm-4.28.1\n",
            "Successfully installed pyro-ppl-0.4.1 torch-1.2.0 tqdm-4.35.0\n"
          ],
          "name": "stdout"
        },
        {
          "output_type": "display_data",
          "data": {
            "application/vnd.colab-display-data+json": {
              "pip_warning": {
                "packages": [
                  "tqdm"
                ]
              }
            }
          },
          "metadata": {
            "tags": []
          }
        }
      ]
    },
    {
      "cell_type": "code",
      "metadata": {
        "id": "RP4dv1Pb7wAr",
        "colab_type": "code",
        "colab": {}
      },
      "source": [
        "import random\n",
        "import numpy as np\n",
        "import torch\n",
        "from torch.distributions import constraints\n",
        "import pyro\n",
        "import pyro.distributions as dist\n",
        "from pyro import sample , poutine , plate , param\n",
        "from pyro.contrib.autoguide import AutoDiagonalNormal,AutoDelta,AutoMultivariateNormal\n",
        "from pyro.infer import SVI, Trace_ELBO, TraceEnum_ELBO, config_enumerate, infer_discrete\n",
        "pyro.enable_validation(True)\n",
        "\n",
        "import matplotlib.pyplot as plt"
      ],
      "execution_count": 0,
      "outputs": []
    },
    {
      "cell_type": "markdown",
      "metadata": {
        "id": "S3DIf21a9xlR",
        "colab_type": "text"
      },
      "source": [
        "## Synthetic data "
      ]
    },
    {
      "cell_type": "code",
      "metadata": {
        "id": "uO5is8kB66dg",
        "colab_type": "code",
        "colab": {}
      },
      "source": [
        "num_docs = 1000\n",
        "len_docs = [random.randint(5,50) for _ in range(num_docs)]\n",
        "num_topics = 5\n",
        "num_words = 500"
      ],
      "execution_count": 0,
      "outputs": []
    },
    {
      "cell_type": "code",
      "metadata": {
        "id": "mPbVzLKR0ghM",
        "colab_type": "code",
        "colab": {}
      },
      "source": [
        "def generate_data():\n",
        "  with plate(\"topics\", num_topics):\n",
        "    topic_words = sample(\"topic_words\",\n",
        "                         dist.Dirichlet(torch.zeros(num_words)+0.05))\n",
        "  data = []\n",
        "  topic_weights = []\n",
        "  for i in plate(\"documents\", num_docs):\n",
        "    doc_topics = sample(\"doc_topics_{}\".format(i), dist.Dirichlet(torch.zeros(num_topics)+0.1))\n",
        "    topic_weights.append(doc_topics)\n",
        "    \n",
        "    with plate('words', len_docs[i]):\n",
        "      word_topics = sample(\"word_topics\", dist.Categorical(doc_topics))\n",
        "      data_i = sample(\"doc_words\", dist.Categorical(topic_words[word_topics]))\n",
        "      data.append(data_i)\n",
        "  \n",
        "  return topic_words , topic_weights , data"
      ],
      "execution_count": 0,
      "outputs": []
    },
    {
      "cell_type": "code",
      "metadata": {
        "id": "CEej08Hr_NxU",
        "colab_type": "code",
        "colab": {}
      },
      "source": [
        "topic_words , topic_weights , data  = generate_data()"
      ],
      "execution_count": 0,
      "outputs": []
    },
    {
      "cell_type": "code",
      "metadata": {
        "id": "Gu4MMp6ixZYS",
        "colab_type": "code",
        "outputId": "d1bf5cf9-ac08-4432-925b-4b31a3739890",
        "colab": {
          "base_uri": "https://localhost:8080/",
          "height": 52
        }
      },
      "source": [
        "data[0]"
      ],
      "execution_count": 0,
      "outputs": [
        {
          "output_type": "execute_result",
          "data": {
            "text/plain": [
              "tensor([  5, 424, 366, 487,   5, 452,  90,  32,  44, 272,  90, 368,  32, 133,\n",
              "        299, 461,  44])"
            ]
          },
          "metadata": {
            "tags": []
          },
          "execution_count": 58
        }
      ]
    },
    {
      "cell_type": "code",
      "metadata": {
        "id": "QPhX6KQAmuLc",
        "colab_type": "code",
        "colab": {}
      },
      "source": [
        "@config_enumerate\n",
        "def model(obs):\n",
        "  with plate(\"topics\", num_topics):\n",
        "    topic_words = sample(\"topic_words\",\n",
        "                         dist.Dirichlet(torch.ones(num_words)*0.5))\n",
        "    \n",
        "  for i in plate(\"documents\", num_docs):\n",
        "    doc_topics = sample(\"doc_topics_{}\".format(i), dist.Dirichlet(torch.ones(num_topics)*0.5))\n",
        "    \n",
        "    with plate('words_{}'.format(i), len_docs[i]):\n",
        "      word_topics = sample(\"word_topics_{}\".format(i), dist.Categorical(doc_topics))\n",
        "      data = sample(\"doc_words_{}\".format(i), dist.Categorical(topic_words[word_topics]) , obs=obs[i])"
      ],
      "execution_count": 0,
      "outputs": []
    },
    {
      "cell_type": "code",
      "metadata": {
        "id": "4m3hP1w1rvq7",
        "colab_type": "code",
        "colab": {}
      },
      "source": [
        "def guide(obs):\n",
        "  topic_words_posterior = param(\"topic_words_posterior\",\n",
        "                                torch.ones(num_topics,num_words),\n",
        "                                constraint=constraints.positive)\n",
        "  with plate(\"topics\", num_topics):\n",
        "    sample(\"topic_words\", dist.Dirichlet(topic_words_posterior))\n",
        "  \n",
        "  doc_topics_weights = param('doc_topics_weights', \n",
        "                             torch.ones(num_docs , num_topics), \n",
        "                             constraint=constraints.positive)\n",
        "  \n",
        "  for i in plate(\"documents\", num_docs ,subsample_size=50):\n",
        "    doc_topics = sample(\"doc_topics_{}\".format(i), dist.Dirichlet(doc_topics_weights[i]))"
      ],
      "execution_count": 0,
      "outputs": []
    },
    {
      "cell_type": "code",
      "metadata": {
        "id": "_b4skUNX1XSu",
        "colab_type": "code",
        "colab": {}
      },
      "source": [
        "pyro.clear_param_store()\n",
        "elbo = TraceEnum_ELBO()\n",
        "optim = pyro.optim.Adam({'lr': 1e-1})\n",
        "svi = SVI(model, guide, optim, loss=elbo)"
      ],
      "execution_count": 0,
      "outputs": []
    },
    {
      "cell_type": "code",
      "metadata": {
        "id": "pCjiBXj41rmc",
        "colab_type": "code",
        "outputId": "f949bea0-b71d-470b-f709-e60f112724f3",
        "colab": {
          "base_uri": "https://localhost:8080/",
          "height": 35
        }
      },
      "source": [
        "for _ in range(100):\n",
        "  loss = svi.step(data)\n",
        "\n",
        "print(loss)"
      ],
      "execution_count": 0,
      "outputs": [
        {
          "output_type": "stream",
          "text": [
            "160787.6875\n"
          ],
          "name": "stdout"
        }
      ]
    },
    {
      "cell_type": "code",
      "metadata": {
        "id": "_1Fu-da86Uvn",
        "colab_type": "code",
        "colab": {}
      },
      "source": [
        "w =dist.Dirichlet(pyro.get_param_store()[\"doc_topics_weights\"]).sample()"
      ],
      "execution_count": 0,
      "outputs": []
    },
    {
      "cell_type": "code",
      "metadata": {
        "id": "CQQEayj1Oc3D",
        "colab_type": "code",
        "outputId": "16a72271-62e6-46bc-dad5-f57664f9b94c",
        "colab": {
          "base_uri": "https://localhost:8080/",
          "height": 299
        }
      },
      "source": [
        "i = 200\n",
        "bar_width = 0.35\n",
        "plt.bar(np.arange(5) , topic_weights[i] ,bar_width , label='real')\n",
        "plt.bar(np.arange(5)+bar_width , w[i] , bar_width , label='approximate')\n",
        "plt.title('Docs no.{}'.format(i))\n",
        "plt.legend()"
      ],
      "execution_count": 0,
      "outputs": [
        {
          "output_type": "execute_result",
          "data": {
            "text/plain": [
              "<matplotlib.legend.Legend at 0x7f21c0d2e6d8>"
            ]
          },
          "metadata": {
            "tags": []
          },
          "execution_count": 65
        },
        {
          "output_type": "display_data",
          "data": {
            "image/png": "[encoded data removed]",
            "text/plain": [
              "<Figure size 432x288 with 1 Axes>"
            ]
          },
          "metadata": {
            "tags": []
          }
        }
      ]
    },
    {
      "cell_type": "code",
      "metadata": {
        "id": "L_CE6YOwp-qP",
        "colab_type": "code",
        "colab": {}
      },
      "source": [
        "v = dist.Dirichlet(pyro.get_param_store()[\"topic_words_posterior\"]).sample()"
      ],
      "execution_count": 0,
      "outputs": []
    },
    {
      "cell_type": "code",
      "metadata": {
        "id": "j6eGwAoxP6Ni",
        "colab_type": "code",
        "outputId": "2ab72859-034e-4f3e-f783-c98ff129457f",
        "colab": {
          "base_uri": "https://localhost:8080/",
          "height": 299
        }
      },
      "source": [
        "i = 1\n",
        "bar_width = 0.5\n",
        "plt.bar(np.arange(500) , topic_words[i] ,bar_width , label='real')\n",
        "plt.bar(np.arange(500)+bar_width , v[i] , bar_width , label='approximate')\n",
        "plt.title('Docs no.{}'.format(i))\n",
        "plt.legend()"
      ],
      "execution_count": 0,
      "outputs": [
        {
          "output_type": "execute_result",
          "data": {
            "text/plain": [
              "<matplotlib.legend.Legend at 0x7f21baa78ac8>"
            ]
          },
          "metadata": {
            "tags": []
          },
          "execution_count": 67
        },
        {
          "output_type": "display_data",
          "data": {
            "image/png": "[encoded data removed]",
            "text/plain": [
              "<Figure size 432x288 with 1 Axes>"
            ]
          },
          "metadata": {
            "tags": []
          }
        }
      ]
    }
  ]
}